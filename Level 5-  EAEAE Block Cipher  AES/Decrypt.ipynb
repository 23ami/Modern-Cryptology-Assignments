{
 "cells": [
  {
   "cell_type": "code",
   "execution_count": 9,
   "id": "metric-solution",
   "metadata": {},
   "outputs": [],
   "source": [
    "import numpy as np\n",
    "from pyfinite import ffield"
   ]
  },
  {
   "cell_type": "code",
   "execution_count": 10,
   "id": "fitted-dylan",
   "metadata": {},
   "outputs": [
    {
     "data": {
      "text/plain": [
       "[[84, 0, 0, 0, 0, 0, 0, 0],\n",
       " [115, 70, 0, 0, 0, 0, 0, 0],\n",
       " [21, 17, 43, 0, 0, 0, 0, 0],\n",
       " [124, 21, 7, 12, 0, 0, 0, 0],\n",
       " [99, 32, 1, 104, 112, 0, 0, 0],\n",
       " [18, 48, 18, 41, 101, 11, 0, 0],\n",
       " [12, 120, 15, 104, 3, 93, 27, 0],\n",
       " [71, 15, 84, 27, 10, 73, 28, 38]]"
      ]
     },
     "execution_count": 10,
     "metadata": {},
     "output_type": "execute_result"
    }
   ],
   "source": [
    "#Final Matrices as obtained from Cryptanalysis.ipynb\n",
    "At= [[84, 0, 0, 0, 0, 0, 0, 0], [115, 70, 0, 0, 0, 0, 0, 0], [21, 17, 43, 0, 0, 0, 0, 0], [124, 21, 7, 12, 0, 0, 0, 0], [99, 32, 1, 104, 112, 0, 0, 0], [18, 48, 18, 41, 101, 11, 0, 0], [12, 120, 15, 104, 3, 93, 27, 0], [71, 15, 84, 27, 10, 73, 28, 38]]\n",
    "E = [19, 107, 37, 79, 89, 47, 24, 20]\n",
    "A=[]\n",
    "for i in range(len(At[0])):\n",
    "    t=[]\n",
    "    for j in range(len(At)):\n",
    "        t.append(At[i][j])\n",
    "    A.append(t) \n",
    "A       \n"
   ]
  },
  {
   "cell_type": "code",
   "execution_count": 11,
   "id": "liberal-first",
   "metadata": {},
   "outputs": [
    {
     "name": "stdout",
     "output_type": "stream",
     "text": [
      "A inverse matrix: \n",
      "[[ 67   0   0   0   0   0   0   0]\n",
      " [ 80  77   0   0   0   0   0   0]\n",
      " [  4  70  96   0   0   0   0   0]\n",
      " [ 82 105  56  94   0   0   0   0]\n",
      " [105  53   3 120  19   0   0   0]\n",
      " [  4  62  21  43  69  74   0   0]\n",
      " [115  72  86 104  53   4  14   0]\n",
      " [ 47  18 113  31  24 125  31  56]]\n"
     ]
    }
   ],
   "source": [
    "B_Size = 8\n",
    "F = ffield.FField(7, gen=0x83, useLUT=-1)\n",
    "A = np.array((A))\n",
    "augmentedA = np.zeros((B_Size, B_Size*2), dtype = int)\n",
    "inverseA = np.zeros((B_Size, B_Size), dtype = int)\n",
    "\n",
    "Einverse = np.zeros((128, 128), dtype = int)\n",
    "\n",
    "exponents = []\n",
    "i=0\n",
    "while i<128:\n",
    "    exponents.append([1]) \n",
    "    i=i+1   \n",
    "i=0\n",
    "while i<128:\n",
    "    for exponent in range(1,127):\n",
    "        temp = exponents[i][exponent-1]\n",
    "        result = F.Multiply(temp, i)\n",
    "        exponents[i]+=[result]\n",
    "    i=i+1    \n",
    "\n",
    "j=0\n",
    "while j<128:\n",
    "    for exponent in range(1,127):\n",
    "        Einverse[exponent][exponents[j][exponent]] = j\n",
    "    j=j+1    \n",
    "\n",
    "inverses = [1]\n",
    "i=1\n",
    "while i<128:\n",
    "    inverses+=[F.Inverse(i)]\n",
    "    assert F.Multiply(i, inverses[i]) == 1\n",
    "    i=i+1\n",
    "\n",
    "i=0\n",
    "while i<B_Size:\n",
    "    for j in range(0,B_Size):\n",
    "        augmentedA[i][j] = A[i][j]\n",
    "    augmentedA[i][i+j+1] = 1\n",
    "    i=i+1\n",
    "j=0\n",
    "while j<B_Size:\n",
    "    assert np.any(augmentedA[j:,j] != 0) # assert pivot row exists: A is invertible\n",
    "    pivot_row = np.where(augmentedA[j:,j] != 0)[0][0] + j\n",
    "    augmentedA[[j, pivot_row]] = augmentedA[[pivot_row, j]]\n",
    "    # make pivot k 1\n",
    "    mul_fact = inverses[augmentedA[j][j]]\n",
    "    k=0\n",
    "    while k<B_Size*2:\n",
    "        augmentedA[j][k] = F.Multiply(augmentedA[j][k], mul_fact)\n",
    "        k=k+1\n",
    "    for i in range(0,B_Size):\n",
    "        if i!=j and augmentedA[i][j] != 0:\n",
    "            mult_fact = augmentedA[i][j]\n",
    "            k=0\n",
    "            while k<B_Size*2:\n",
    "                temp = F.Multiply(augmentedA[j][k], mult_fact)\n",
    "                augmentedA[i][k] = F.Add(temp, augmentedA[i][k])\n",
    "                k=k+1\n",
    "    j=j+1            \n",
    "i=0\n",
    "while i<B_Size:\n",
    "    for j in range(0,B_Size):\n",
    "        inverseA[i][j] = augmentedA[i][B_Size+j]\n",
    "    i=i+1    \n",
    "print(\"A inverse matrix: \\n{}\".format(inverseA))"
   ]
  },
  {
   "cell_type": "code",
   "execution_count": 12,
   "id": "proud-shore",
   "metadata": {},
   "outputs": [
    {
     "name": "stdout",
     "output_type": "stream",
     "text": [
      "Inverse EAEAE values for block: 0:  [115, 108, 110, 117, 97, 116, 113, 113]\n",
      "Inverse EAEAE values for block: 1:  [102, 111, 48, 48, 48, 48, 48, 48]\n",
      "The password is slnuatqqfo000000\n"
     ]
    }
   ],
   "source": [
    "password = \"gsjokqisgjmrkjjjmrltlfkkmikklpko\" #Encrypted password\n",
    "B_Size = 16\n",
    "num_blocks = int(len(password) / B_Size) # 2 blocks\n",
    "\n",
    "def Einverse_calculator(block, E):\n",
    "    transformed = []\n",
    "    j=0\n",
    "    while j<8:\n",
    "        transformed+=[Einverse[E[j]][block[j]]]\n",
    "        j=j+1\n",
    "    return transformed\n",
    "\n",
    "def Ainverse_calculator(block, A):\n",
    "    transformed = []\n",
    "    row_num=0\n",
    "    while row_num<8:\n",
    "        elem_sum = 0\n",
    "        for col_num in range(0,8):\n",
    "            elem = F.Multiply(A[row_num][col_num], block[col_num])\n",
    "            elem_sum = F.Add(elem, elem_sum)\n",
    "        transformed+=[elem_sum]\n",
    "        row_num=row_num+1\n",
    "    return transformed\n",
    "\n",
    "decrypted_password = \"\"\n",
    "i=0\n",
    "while i<2: # Decipher both the blocks of the password\n",
    "    elements = password[B_Size*i:B_Size*(i+1)]\n",
    "    currentBlock = []\n",
    "    j=0\n",
    "    while j<8:\n",
    "        currentBlock+=[(ord(elements[2*j]) - ord('f'))*16 + (ord(elements[2*j+1]) - ord('f'))]\n",
    "        j=j+1\n",
    "    \n",
    "    temp1 = Ainverse_calculator(Einverse_calculator(currentBlock, E), inverseA)\n",
    "    EA = Einverse_calculator(temp1, E)\n",
    "    \n",
    "    temp2 = Ainverse_calculator(EA, inverseA)\n",
    "    EAEAE = Einverse_calculator(temp2, E)\n",
    "    \n",
    "    print(\"Inverse EAEAE values for block:\",str(i)+\": \",EAEAE)\n",
    "    for ch in EAEAE:\n",
    "        decrypted_password += chr(ch)\n",
    "    i=i+1    \n",
    "print(\"The password is\",decrypted_password)\n",
    "    "
   ]
  },
  {
   "cell_type": "code",
   "execution_count": null,
   "id": "different-israeli",
   "metadata": {},
   "outputs": [],
   "source": []
  }
 ],
 "metadata": {
  "kernelspec": {
   "display_name": "Python 3",
   "language": "python",
   "name": "python3"
  },
  "language_info": {
   "codemirror_mode": {
    "name": "ipython",
    "version": 3
   },
   "file_extension": ".py",
   "mimetype": "text/x-python",
   "name": "python",
   "nbconvert_exporter": "python",
   "pygments_lexer": "ipython3",
   "version": "3.11.2"
  }
 },
 "nbformat": 4,
 "nbformat_minor": 5
}

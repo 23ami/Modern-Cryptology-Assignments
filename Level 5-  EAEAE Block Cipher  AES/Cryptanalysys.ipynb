{
 "cells": [
  {
   "cell_type": "code",
   "execution_count": 34,
   "id": "36980cc2",
   "metadata": {
    "ExecuteTime": {
     "end_time": "2022-03-30T11:48:14.291820Z",
     "start_time": "2022-03-30T11:48:13.929307Z"
    }
   },
   "outputs": [],
   "source": [
    "\n",
    "import numpy as np\n",
    "from pyfinite import ffield"
   ]
  },
  {
   "cell_type": "code",
   "execution_count": 35,
   "id": "01de44ac",
   "metadata": {
    "ExecuteTime": {
     "end_time": "2022-03-30T11:48:14.371223Z",
     "start_time": "2022-03-30T11:48:14.294807Z"
    }
   },
   "outputs": [],
   "source": [
    "expo = []\n",
    "rang  =128\n",
    "i=0\n",
    "while i<rang:\n",
    "    expo.append([-1]*128)\n",
    "    i=i+1\n",
    "\n",
    "#a F_128 element will be represented as 7 bit integer i.e. x^2+x+1 = 0000111\n",
    "F = ffield.FField(7, gen=0x83, useLUT=-1)\n",
    "\n",
    "#functions for Field elements\n",
    "def Add(x, y):\n",
    "  ele1 = int(x)\n",
    "  ele2 = int(y)\n",
    "  a = x^y\n",
    "  return a\n",
    "\n",
    "def Multiply(ele1, ele2):\n",
    "  pro = F.Multiply(ele1,ele2)\n",
    "  return pro\n",
    "\n",
    "def Exponentiate(ele, power):\n",
    "    if(expo[ele][power]!=-1):\n",
    "      return expo[ele][power]\n",
    "\n",
    "    res = 0\n",
    "    if(power==0):\n",
    "      res = 1\n",
    "    elif(power==1):\n",
    "      res = ele\n",
    "    elif(power%2 == 1):\n",
    "      sqrt_ele = Exponentiate(ele,power//2)\n",
    "      res = Multiply(ele,Multiply(sqrt_ele,sqrt_ele))\n",
    "\n",
    "    else:\n",
    "      res = Multiply(Exponentiate(ele,power//2), Exponentiate(ele,power//2))\n",
    "    \n",
    "    expo[ele][power] = res\n",
    "    return res\n",
    "\n",
    "def LinearTransform(matrix, ele_list):  \n",
    "  res = [0,0,0,0,0,0,0,0]\n",
    "  for row, ele in zip(matrix, ele_list):\n",
    "    temp = mulVectors(row, ele)\n",
    "    res= addVectors(temp, res)\n",
    "  return res\n",
    "\n",
    "def addVectors(vec1, vec2):\n",
    "    res=[0,0,0,0,0,0,0,0]\n",
    "    for i, (ele1, ele2) in enumerate(zip(vec1, vec2)):\n",
    "        res[i] = Add(ele1, ele2)\n",
    "    return res\n",
    "\n",
    "def mulVectors(vec, ele):\n",
    "    res= [0,0,0,0,0,0,0,0]\n",
    "    for i, e in enumerate(vec):\n",
    "      res[i] = Multiply(e,ele)\n",
    "    return res\n"
   ]
  },
  {
   "cell_type": "code",
   "execution_count": 36,
   "id": "0c077fd6",
   "metadata": {
    "ExecuteTime": {
     "end_time": "2022-03-30T11:48:14.386768Z",
     "start_time": "2022-03-30T11:48:14.373809Z"
    }
   },
   "outputs": [],
   "source": [
    "\n",
    "#decodes full block of input cipher and return its hex\n",
    "def decode_block(cipher):\n",
    "  \n",
    "  if(len(cipher)!=16):\n",
    "      print(\"length isn't 16 for cipher %s\" %cipher)\n",
    "      exit(0)\n",
    "  plain= \"\"\n",
    "  for i in range(0,len(cipher),2):\n",
    "      plain+=chr(16*(ord(cipher[i]) - ord('f')) + ord(cipher[i+1]) - ord('f'))\n",
    "  return plain\n"
   ]
  },
  {
   "cell_type": "code",
   "execution_count": 37,
   "id": "51cff6f9",
   "metadata": {
    "ExecuteTime": {
     "end_time": "2022-03-30T11:48:15.278160Z",
     "start_time": "2022-03-30T11:48:14.388762Z"
    }
   },
   "outputs": [
    {
     "name": "stdout",
     "output_type": "stream",
     "text": [
      "Possible diagonal values: \n",
      "[[[27, 84, 84], [], [], [], [], [], [], []], [[], [47, 70, 70], [], [], [], [], [], []], [[], [], [33, 43, 98], [], [], [], [], []], [[], [], [], [9, 12, 6], [], [], [], []], [[], [], [], [], [118, 112, 20], [], [], []], [[], [], [], [], [], [40, 11, 88], [], []], [[], [], [], [], [], [], [27, 90, 127], []], [[], [], [], [], [], [], [], [38, 56]]]\n",
      "Possible exponents: \n",
      "[[1, 19, 107], [1, 19, 107], [22, 37, 68], [71, 79, 104], [40, 89, 125], [4, 47, 76], [24, 28, 75], [20, 108]]\n"
     ]
    }
   ],
   "source": [
    "\n",
    "#for diagonal elements\n",
    "i=0\n",
    "PossibleExponents = []\n",
    "while i<8:\n",
    "    PossibleExponents.append([])\n",
    "    i=i+1\n",
    "    \n",
    "possibleDiagonalVals=[]\n",
    "j=0\n",
    "while j<8:\n",
    "    cur=[]\n",
    "    for i in range(0,8):\n",
    "        cur.append([])\n",
    "    possibleDiagonalVals.append(cur)\n",
    "    j=j+1\n",
    "\n",
    "with open(\"plaintexts1.txt\", 'r') as input_file, open(\"ciphertexts1.txt\", 'r') as output_file:\n",
    "  for index, (input, output) in enumerate(zip(input_file.readlines(), output_file.readlines())):\n",
    "      input_string = [decode_block(msg)[index] for msg in input.strip().split(\" \")]\n",
    "      output_string = [decode_block(msg)[index] for msg in output.strip().split(\" \")]\n",
    "      i=1\n",
    "      while i<127:\n",
    "        for j in range(0, 128):\n",
    "          flag = True\n",
    "          for inp, out in zip(input_string, output_string):\n",
    "            if(ord(out) != Exponentiate(Multiply(Exponentiate(Multiply(Exponentiate(ord(inp), i), j), i), j), i)):\n",
    "              flag = False\n",
    "              break\n",
    "          if(flag):\n",
    "            PossibleExponents[index].append(i)\n",
    "            possibleDiagonalVals[index][index].append(j)\n",
    "        i=i+1    \n",
    "print(\"Possible diagonal values: \")\n",
    "print(possibleDiagonalVals)\n",
    "print(\"Possible exponents: \")\n",
    "print(PossibleExponents)\n"
   ]
  },
  {
   "cell_type": "code",
   "execution_count": 38,
   "id": "d4a13592",
   "metadata": {
    "ExecuteTime": {
     "end_time": "2022-03-30T11:48:15.354055Z",
     "start_time": "2022-03-30T11:48:15.280156Z"
    }
   },
   "outputs": [
    {
     "name": "stdout",
     "output_type": "stream",
     "text": [
      "[[[84], [115], [], [], [], [], [], []], [[], [70], [17], [], [], [], [], []], [[], [], [43], [7], [], [], [], []], [[], [], [], [12], [104], [], [], []], [[], [], [], [], [112], [101], [], []], [[], [], [], [], [], [11], [93], []], [[], [], [], [], [], [], [27], [28]], [[], [], [], [], [], [], [], [38]]]\n",
      "[[19], [107], [37], [79], [89], [47], [24], [20]]\n"
     ]
    }
   ],
   "source": [
    "with open(\"plaintexts1.txt\", 'r') as input_file, open(\"ciphertexts1.txt\", 'r') as output_file:\n",
    "  for ind, (iline, oline) in enumerate(zip(input_file.readlines(), output_file.readlines())):\n",
    "      if ind > 6 :\n",
    "          break\n",
    "\n",
    "      inpString = [decode_block(msg)[ind] for msg in iline.strip().split(\" \")]\n",
    "      outString = [decode_block(msg)[ind+1] for msg in oline.strip().split(\" \")]\n",
    "\n",
    "      for i in range(1, 128):\n",
    "          for p1, e1 in zip(PossibleExponents[ind+1], possibleDiagonalVals[ind+1][ind+1]):\n",
    "              for p2, e2 in zip(PossibleExponents[ind], possibleDiagonalVals[ind][ind]):\n",
    "                  flag = True\n",
    "                  for inp, outp in zip(inpString, outString):\n",
    "                      if(ord(outp) != Exponentiate(Add(Multiply(Exponentiate(Multiply(Exponentiate(ord(inp), p2), e2), p2), i) ,Multiply(Exponentiate(Multiply(Exponentiate(ord(inp), p2), i), p1), e1)), p1)):\n",
    "                          flag = False\n",
    "                          break\n",
    "                  if flag:\n",
    "                      PossibleExponents[ind+1] = [p1]\n",
    "                      possibleDiagonalVals[ind+1][ind+1] = [e1]\n",
    "                      PossibleExponents[ind] = [p2]\n",
    "                      possibleDiagonalVals[ind][ind] = [e2]\n",
    "                      possibleDiagonalVals[ind][ind+1] = [i]\n",
    "print(possibleDiagonalVals)\n",
    "print(PossibleExponents)\n",
    "\n"
   ]
  },
  {
   "cell_type": "code",
   "execution_count": 39,
   "id": "8eaa6e5c",
   "metadata": {
    "ExecuteTime": {
     "end_time": "2022-03-30T13:01:23.158191Z",
     "start_time": "2022-03-30T13:01:21.448301Z"
    }
   },
   "outputs": [],
   "source": [
    "def EAEAE (plaintext, lin_mat, exp_mat): # Defines EAEAE\n",
    "  plaintext = [ord(c) for c in plaintext]\n",
    "  op = []\n",
    "  i=0\n",
    "  while i<8:\n",
    "    temp = []\n",
    "    for j in range (8):\n",
    "        temp.append(0)\n",
    "    i=i+1    \n",
    "    op.append(temp)\n",
    "\n",
    "  #First Layer - Exponentiation\n",
    "  for index, ele in enumerate(plaintext):\n",
    "      op[0][index] = Exponentiate(ele, exp_mat[index])\n",
    "\n",
    "  #Second Layer - Linear Transform\n",
    "  op[1] = LinearTransform(lin_mat, op[0])\n",
    "\n",
    "  #Third Layer - Exponentiation\n",
    "  for index, ele in enumerate(op[1]):\n",
    "      op[2][index] = Exponentiate(ele, exp_mat[index])\n",
    "\n",
    "  #Fourth Layer - Linear Transform\n",
    "  op[3] = LinearTransform(lin_mat, op[2])\n",
    "\n",
    "  #Fifth Layer - Exponentiation\n",
    "  for index, ele in enumerate(op[3]):\n",
    "      op[4][index] = Exponentiate(ele, exp_mat[index])\n",
    "      \n",
    "  return op[4]\n",
    "\n",
    "for indexex in range(0,6):\n",
    "    offset = indexex + 2\n",
    "    \n",
    "    exp_list = []\n",
    "    for e in PossibleExponents:\n",
    "        exp_list.append(e[0])\n",
    "    #exp_list = [e[0] for e in PossibleExponents]\n",
    "    lin_trans_list = []\n",
    "    \n",
    "    for j in range(8):\n",
    "        temp = []\n",
    "        for i in range(8):\n",
    "            temp.append(0)\n",
    "        lin_trans_list.append(temp)\n",
    "    #lin_trans_list = [[0 for i in range(8)] for j in range(8)]\n",
    "\n",
    "    for i in range(8):\n",
    "      for j in range(8):     \n",
    "        if(len(possibleDiagonalVals[i][j]) != 0):\n",
    "          lin_trans_list[i][j] = possibleDiagonalVals[i][j][0]\n",
    "        else:\n",
    "          lin_trans_list[i][j] = 0\n",
    "          \n",
    "\n",
    "    with open(\"plaintexts1.txt\", 'r') as input_file, open(\"ciphertexts1.txt\", 'r') as output_file:\n",
    "      for index, (input, output) in enumerate(zip(input_file.readlines(), output_file.readlines())):\n",
    "          if(index > (7-offset)):\n",
    "            continue\n",
    "          \n",
    "          input_string = []\n",
    "          output_string = []\n",
    "          for msg in input.strip().split(\" \"):\n",
    "            input_string.append(decode_block(msg))\n",
    "          for msg in output.strip().split(\" \"):\n",
    "            output_string.append(decode_block(msg))\n",
    "          #input_string = [decode_block(msg) for msg in input.strip().split(\" \")]\n",
    "          #output_string = [decode_block(msg) for msg in output.strip().split(\" \")]\n",
    "\n",
    "          for i in range(1, 128):\n",
    "              lin_trans_list[index][index+offset] = i\n",
    "              flag = True\n",
    "              for inps, outs in zip(input_string, output_string):\n",
    "                  if EAEAE(inps, lin_trans_list, exp_list)[index+offset] != ord(outs[index+offset]):\n",
    "                      flag = False\n",
    "                      break\n",
    "              if flag==True:\n",
    "                  possibleDiagonalVals[index][index+offset] = [i]\n",
    "    input_file.close();\n",
    "    output_file.close();\n",
    "\n",
    "lin_trans_list = np.zeros((8,8),dtype='int')\n",
    "\n",
    "for i in range(0,8):\n",
    "    for j in range(0,8):\n",
    "      if len(possibleDiagonalVals[i][j]) != 0:\n",
    "        lin_trans_list[i][j] = possibleDiagonalVals[i][j][0]\n",
    "\n",
    "\n",
    "At = lin_trans_list\n",
    "E = exp_list"
   ]
  },
  {
   "cell_type": "code",
   "execution_count": 40,
   "id": "32a4dfbf",
   "metadata": {
    "ExecuteTime": {
     "end_time": "2022-03-30T11:50:44.935074Z",
     "start_time": "2022-03-30T11:50:44.918289Z"
    }
   },
   "outputs": [
    {
     "name": "stdout",
     "output_type": "stream",
     "text": [
      "E vector:  [19, 107, 37, 79, 89, 47, 24, 20]\n",
      "A matrix:  [[84, 0, 0, 0, 0, 0, 0, 0], [115, 70, 0, 0, 0, 0, 0, 0], [21, 17, 43, 0, 0, 0, 0, 0], [124, 21, 7, 12, 0, 0, 0, 0], [99, 32, 1, 104, 112, 0, 0, 0], [18, 48, 18, 41, 101, 11, 0, 0], [12, 120, 15, 104, 3, 93, 27, 0], [71, 15, 84, 27, 10, 73, 28, 38]]\n"
     ]
    }
   ],
   "source": [
    "print(\"E vector: \",E)\n",
    "\n",
    "#A = [[At[j][i] for j in range(8)] for i in range(8)]\n",
    "A=[]\n",
    "for i in range(8):\n",
    "    t=[]\n",
    "    for j in range(8):\n",
    "        t.append(At[j][i])\n",
    "    A.append(t) \n",
    "print(\"A matrix: \", A)\n"
   ]
  }
 ],
 "metadata": {
  "kernelspec": {
   "display_name": "Python 3",
   "language": "python",
   "name": "python3"
  },
  "language_info": {
   "codemirror_mode": {
    "name": "ipython",
    "version": 3
   },
   "file_extension": ".py",
   "mimetype": "text/x-python",
   "name": "python",
   "nbconvert_exporter": "python",
   "pygments_lexer": "ipython3",
   "version": "3.11.2"
  },
  "varInspector": {
   "cols": {
    "lenName": 16,
    "lenType": 16,
    "lenVar": 40
   },
   "kernels_config": {
    "python": {
     "delete_cmd_postfix": "",
     "delete_cmd_prefix": "del ",
     "library": "var_list.py",
     "varRefreshCmd": "print(var_dic_list())"
    },
    "r": {
     "delete_cmd_postfix": ") ",
     "delete_cmd_prefix": "rm(",
     "library": "var_list.r",
     "varRefreshCmd": "cat(var_dic_list()) "
    }
   },
   "types_to_exclude": [
    "module",
    "function",
    "builtin_function_or_method",
    "instance",
    "_Feature"
   ],
   "window_display": false
  }
 },
 "nbformat": 4,
 "nbformat_minor": 5
}

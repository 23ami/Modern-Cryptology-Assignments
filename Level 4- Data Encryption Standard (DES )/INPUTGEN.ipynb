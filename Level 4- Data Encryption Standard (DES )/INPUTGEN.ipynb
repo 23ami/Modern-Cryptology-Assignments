{
  "nbformat": 4,
  "nbformat_minor": 0,
  "metadata": {
    "colab": {
      "provenance": []
    },
    "kernelspec": {
      "name": "python3",
      "display_name": "Python 3"
    },
    "language_info": {
      "name": "python"
    }
  },
  "cells": [
    {
      "cell_type": "code",
      "execution_count": 18,
      "metadata": {
        "id": "qfHq5kp467Qu"
      },
      "outputs": [],
      "source": [
        "import numpy as np\n",
        "import random"
      ]
    },
    {
      "cell_type": "code",
      "source": [
        "dict = {\n",
        " '0000': 'f',\n",
        " '0001': 'g',\n",
        " '0010': 'h',\n",
        " '0011': 'i',\n",
        " '0100': 'j',\n",
        " '0101': 'k',\n",
        " '0110': 'l',\n",
        " '0111': 'm',\n",
        " '1000': 'n',\n",
        " '1001': 'o',\n",
        " '1010': 'p',\n",
        " '1011': 'q',\n",
        " '1100': 'r',\n",
        " '1101': 's',\n",
        " '1110': 't',\n",
        " '1111': 'u'\n",
        "}\n",
        "rev_dict=mapping = {\n",
        "           'f' : '0000',\n",
        "           'g' : '0001',\n",
        "           'h' : '0010',\n",
        "           'i' : '0011',\n",
        "           'j' : '0100',\n",
        "           'k' : '0101',\n",
        "           'l' : '0110',\n",
        "           'm' : '0111',\n",
        "           'n' : '1000',\n",
        "           'o' : '1001',\n",
        "           'p' : '1010',\n",
        "           'q' : '1011',\n",
        "           'r' : '1100',\n",
        "           's' : '1101',\n",
        "           't' : '1110',\n",
        "           'u' : '1111'\n",
        "           }"
      ],
      "metadata": {
        "id": "zbc39HAm7FES"
      },
      "execution_count": 19,
      "outputs": []
    },
    {
      "cell_type": "code",
      "source": [
        "def inputgeneration1():\n",
        "\n",
        "  # XOR value between pairs of plaintexts is 000080100000400\n",
        " xor_val = list((bin(0x0000801000004000))[2:].zfill(64))\n",
        " xor_val = [int(t) for t in xor_val]\n",
        " binary_plaintexts = []\n",
        " i=0\n",
        " while i<2500:\n",
        "   tmp=[]\n",
        "   j=0\n",
        "   while j<16:\n",
        "    x= random.choice(['f','g','h','i','j','k','l','m','n','o','p','q','r','s','t','u'])\n",
        "    tmp.append(x)\n",
        "    j=j+1\n",
        "   inp1=''\n",
        "   y=0\n",
        "   while y<16:\n",
        "      inp1+=rev_dict[tmp[y]]\n",
        "      y=y+1\n",
        "   inp1 = [int(inp1[j]) for j in range(len(inp1))]\n",
        "   binary_plaintexts.append(inp1)\n",
        "   i=i+1\n",
        "   binary_plaintexts.append(list(np.bitwise_xor(inp1,xor_val)))\n",
        " return binary_plaintexts   "
      ],
      "metadata": {
        "id": "6gC7MEAs7Kwc"
      },
      "execution_count": 20,
      "outputs": []
    },
    {
      "cell_type": "code",
      "source": [
        "def listToStr(str2):  \n",
        "    s1=[]\n",
        "    for i in str2:\n",
        "      s1.append(str(i)) \n",
        "    str1 = \"\"   \n",
        "    return (str1.join(s1))\n"
      ],
      "metadata": {
        "id": "9AxMdzN79lRT"
      },
      "execution_count": 21,
      "outputs": []
    },
    {
      "cell_type": "code",
      "source": [
        "binary_plaintexts1=inputgeneration1()\n",
        "inputs = []\n",
        "for i in range(len(binary_plaintexts1)):\n",
        "    input=\"\"\n",
        "    for j in range(0,64,4):\n",
        "        temp1 = binary_plaintexts1[i][j:j+4]\n",
        "        temp2 = listToStr(temp1)\n",
        "        input+=dict[temp2]\n",
        "    inputs+=[input]"
      ],
      "metadata": {
        "id": "gQyP6G1r-L5k"
      },
      "execution_count": 22,
      "outputs": []
    },
    {
      "cell_type": "code",
      "source": [
        "newf = open(\"plaintexts5.txt\",\"w\")\n",
        "for plain in inputs:\n",
        "    newf.write(plain+\"\\n\")\n",
        "newf.close()"
      ],
      "metadata": {
        "id": "FfedAVbN_yUp"
      },
      "execution_count": 23,
      "outputs": []
    },
    {
      "cell_type": "code",
      "source": [
        "def inputgeneration2():\n",
        "\n",
        "# XOR value between pairs of plaintexts is 0000 0000 0000 0000 0000 1000 0000 0001 0000 0000 0001 0000 0000 0000 0000 0000\n",
        " xor_val = list((bin(0x0000080100100000))[2:].zfill(64))\n",
        " xor_val = [int(t) for t in xor_val]\n",
        " binary_plaintexts = []\n",
        " i=0\n",
        " while i<2500:\n",
        "   tmp=[]\n",
        "   j=0\n",
        "   while j<16:\n",
        "    x= random.choice(['f','g','h','i','j','k','l','m','n','o','p','q','r','s','t','u'])\n",
        "    tmp.append(x)\n",
        "    j=j+1\n",
        "   inp1=''\n",
        "   y=0\n",
        "   while y<16:\n",
        "      inp1+=rev_dict[tmp[y]]\n",
        "      y=y+1\n",
        "   inp1 = [int(inp1[j]) for j in range(len(inp1))]\n",
        "   binary_plaintexts.append(inp1)\n",
        "   i=i+1\n",
        "   binary_plaintexts.append(list(np.bitwise_xor(inp1,xor_val)))\n",
        " return binary_plaintexts "
      ],
      "metadata": {
        "id": "KB2jzCczALJu"
      },
      "execution_count": 24,
      "outputs": []
    },
    {
      "cell_type": "code",
      "source": [
        "def listToStr(str2):  \n",
        "    s1=[]\n",
        "    for i in str2:\n",
        "      s1.append(str(i)) \n",
        "    str1 = \"\"   \n",
        "    return (str1.join(s1))"
      ],
      "metadata": {
        "id": "MtABa1atCmzl"
      },
      "execution_count": 25,
      "outputs": []
    },
    {
      "cell_type": "code",
      "source": [
        "binary_plaintexts2=inputgeneration2()\n",
        "inputs = []\n",
        "for i in range(len(binary_plaintexts2)):\n",
        "    input=\"\"\n",
        "    for j in range(0,64,4):\n",
        "        temp1 = binary_plaintexts2[i][j:j+4]\n",
        "        temp2 = listToStr(temp1)\n",
        "        input+=dict[temp2]\n",
        "    inputs+=[input]"
      ],
      "metadata": {
        "id": "VTQUus2WCxgQ"
      },
      "execution_count": 26,
      "outputs": []
    },
    {
      "cell_type": "code",
      "source": [
        "newf = open(\"plaintexts6.txt\",\"w\")\n",
        "for plain in inputs:\n",
        "    newf.write(plain+\"\\n\")\n",
        "newf.close()"
      ],
      "metadata": {
        "id": "i6HK49TCC9m_"
      },
      "execution_count": 27,
      "outputs": []
    }
  ]
}